{
 "cells": [
  {
   "cell_type": "markdown",
   "metadata": {},
   "source": [
    "# Ambientes Educativos Inov@dores: Cenários e Histórias de Aprendizagem"
   ]
  },
  {
   "cell_type": "markdown",
   "metadata": {},
   "source": [
    "[**Centro de Formação Francisco de Holanda**](https://www.cffh.pt/index.php?pagina=ver_accao&accao=ambiente-educativos-inovatdores-cenarios-e-historias-de-aprendizagem)"
   ]
  },
  {
   "cell_type": "markdown",
   "metadata": {},
   "source": [
    "## Oficina - Sessão 1"
   ]
  },
  {
   "cell_type": "markdown",
   "metadata": {},
   "source": [
    "### Introdução à ação\n",
    "\n",
    "+ Funcionamento\n",
    "    + 15 horas em Oficina + 15 horas trabalho autónomo\n",
    "    + [Preenchimento de inquérito](https://goo.gl/forms/Til3yp4Teff80dWB2)\n",
    "    + [Critérios de avaliação da ação](files/anexos/Crit_Av.pdf)"
   ]
  },
  {
   "cell_type": "markdown",
   "metadata": {},
   "source": [
    "### Histórias de Aprendizagem"
   ]
  },
  {
   "cell_type": "markdown",
   "metadata": {},
   "source": [
    "+ HealthJacket - Desenvolvimento do protótipo de um casaco de pijama inteligente\n",
    "    + Cursos envolvidos - Prova de Aptidão Profissional\n",
    "        + Técnico de Gestão e programação de Sistemas Informáticos - Arquitetura tecnológica e Programação\n",
    "        + Técnico Auxiliar de Saúde - Teste em contexto real\n",
    "        + Técnico de Design de Moda\n",
    "\n",
    "    + Funcionalidades\n",
    "        + Medição de Batimento Cardíaco\n",
    "        + Medição da temperatura corporal\n",
    "        + Medição de pressão anti-escaras\n",
    "        + Sistema de alerta de quedas\n",
    "        \n",
    "       \n",
    "<video controls src=\"anexos/video1.mp4\" /> "
   ]
  },
  {
   "cell_type": "markdown",
   "metadata": {},
   "source": [
    "+ Caixa de Medicamento Inteligente - Desenvolvimento do protótipo de um caix de medicamentos inteligente\n",
    "    + Cursos envolvidos - Prova de Aptidão Profissional\n",
    "        + Técnico de Gestão e programação de Sistemas Informáticos - Arquitetura tecnológica e Programação\n",
    "        + Técnico Auxiliar de Saúde - Teste em contexto real\n",
    "    + Funcionalidades\n",
    "        + Configuração de toma de medicamentos\n",
    "        + Alerta visual de hora de toma do medicamento\n",
    "        \n",
    "<video controls src=\"anexos/video2.mp4\" />\n"
   ]
  },
  {
   "cell_type": "markdown",
   "metadata": {},
   "source": [
    "### Cenários de Aprendizagem"
   ]
  },
  {
   "cell_type": "markdown",
   "metadata": {},
   "source": [
    "### Autoavaliação Modular\n",
    "\n",
    "Formador: https://docs.google.com/forms/d/1D2IczJVAgyEpQnYtlsVZRO6ACaGHh6gVhLFgUYGMamU/edit\n",
    "\n",
    "Formando: https://goo.gl/forms/IOF0MxptwpqDlTvA3"
   ]
  },
  {
   "cell_type": "markdown",
   "metadata": {},
   "source": [
    "### Teste de Avaliação\n",
    "\n",
    "Formador: https://docs.google.com/forms/d/14MDFdcva9Io6Sd7JFZVV2h-G2YWw7L9HUXt1lSzD3nM/edit\n",
    "\n",
    "Formando: https://goo.gl/forms/tmcH9bQisUnATmFX2"
   ]
  },
  {
   "cell_type": "markdown",
   "metadata": {},
   "source": [
    "### [Ferramentas]()\n",
    "\n",
    "#### Google Forms\n",
    "\n",
    "+ Questões de aula\n",
    "+ Teste com correção e classificação automática (depende do tipo de questão)\n",
    "+ Inquérito e Sondagens\n",
    "    \n",
    "#### Bloco de Notas Jupyter\n",
    "\n",
    "+ Este documento foi desenvolvido em jupyter/python\n",
    "+ Fórmulas matemáticas\n",
    "+ Gráficos\n",
    "+ vídeos\n",
    "+ Imagens\n",
    "+ Reprodução e criação de sons\n",
    "\n",
    "##### Referências\n",
    "\n",
    "+ equações\n",
    "\n",
    "    http://jupyter-notebook.readthedocs.io/en/stable/examples/Notebook/Typesetting%20Equations.html\n",
    "\n",
    "    https://www.math.ubc.ca/~pwalls/math-python/jupyter/latex/\n",
    "\n",
    "    https://math.meta.stackexchange.com/questions/5020/mathjax-basic-tutorial-and-quick-reference\n",
    "\n",
    "    https://www.math.ubc.ca/~pwalls/math-python/python/numbers/\n",
    "    \n",
    "\n",
    "+ Matrizes\n",
    "\n",
    "    http://rlhick.people.wm.edu/stories/linear-algebra-python-basics.html\n",
    "    \n",
    "\n",
    "+ Operações \n",
    "    + numpy\n",
    "    http://cs231n.github.io/python-numpy-tutorial/\n",
    "\n",
    "\n",
    "+ Estatística\n",
    "\n",
    "    http://nbviewer.jupyter.org/github/fonnesbeck/statistical-analysis-python-tutorial/tree/master/\n",
    "\n",
    "    http://nbviewer.jupyter.org/github/fonnesbeck/\n",
    "    http://nbviewer.jupyter.org/github/celiacintas/scipyla/blob/master/prescipyla/the_goodies_of_life_the_universe_and_everything.ipynb\n",
    "    \n",
    "\n",
    "+ Gráficos\n",
    "    https://plot.ly/python/ipython-notebook-tutorial/ (animação de gráficos)\n",
    "\n",
    "    https://matplotlib.org/tutorials/introductory/pyplot.html\n",
    "    \n",
    "\n",
    "+ Mapas\n",
    "\n",
    "    http://jupyter.org/widgets#bqplot\n",
    "    \n",
    "    \n",
    "+ Vários exemplos de blocos de notas\n",
    "    http://nb.bianp.net/sort/views/"
   ]
  },
  {
   "cell_type": "markdown",
   "metadata": {},
   "source": [
    "Formador: Tiago Rui Pereira - tiagoruipereira@gmail.com"
   ]
  }
 ],
 "metadata": {
  "kernelspec": {
   "display_name": "Python 3",
   "language": "python",
   "name": "python3"
  },
  "language_info": {
   "codemirror_mode": {
    "name": "ipython",
    "version": 3
   },
   "file_extension": ".py",
   "mimetype": "text/x-python",
   "name": "python",
   "nbconvert_exporter": "python",
   "pygments_lexer": "ipython3",
   "version": "3.6.5"
  }
 },
 "nbformat": 4,
 "nbformat_minor": 2
}
